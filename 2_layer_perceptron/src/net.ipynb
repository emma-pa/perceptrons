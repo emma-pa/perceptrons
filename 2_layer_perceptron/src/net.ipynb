{
 "cells": [
  {
   "cell_type": "markdown",
   "metadata": {},
   "source": [
    "# Homework 2 - Exercise 4"
   ]
  },
  {
   "cell_type": "markdown",
   "metadata": {},
   "source": [
    "## Emma Parois"
   ]
  },
  {
   "cell_type": "code",
   "execution_count": 1,
   "metadata": {},
   "outputs": [],
   "source": [
    "import numpy as np\n",
    "import matplotlib.pyplot as plt\n",
    "from tqdm import tqdm\n",
    "import csv"
   ]
  },
  {
   "cell_type": "markdown",
   "metadata": {},
   "source": [
    "### Loss function (or energy function) and its derivative"
   ]
  },
  {
   "cell_type": "code",
   "execution_count": 2,
   "metadata": {},
   "outputs": [],
   "source": [
    "def loss_function(targets, outputs):\n",
    "    return 1/2 * (targets - outputs)**2"
   ]
  },
  {
   "cell_type": "code",
   "execution_count": 3,
   "metadata": {},
   "outputs": [],
   "source": [
    "def loss_function_prime(targets, outputs):\n",
    "    return targets - outputs"
   ]
  },
  {
   "cell_type": "markdown",
   "metadata": {},
   "source": [
    "### Fully conected layer"
   ]
  },
  {
   "cell_type": "code",
   "execution_count": 4,
   "metadata": {},
   "outputs": [],
   "source": [
    "class FCLayer():\n",
    "    def __init__(self, input_size, output_size, activation, activation_prime):\n",
    "        self.weights = np.random.rand(output_size, input_size) - 0.5\n",
    "        self.thresholds = np.random.rand(output_size, 1) - 0.5\n",
    "        self.activation = activation\n",
    "        self.activation_prime = activation_prime\n",
    "        self.input = None\n",
    "        self.output = None\n",
    "    \n",
    "    def local_field(self):\n",
    "        return -self.thresholds + self.weights @ self.input\n",
    "\n",
    "    def forward_propagation(self, input):\n",
    "        self.input = input\n",
    "        self.output = self.activation(self.local_field())\n",
    "        return self.output\n",
    "\n",
    "    def backward_propagation(self, output_error, learning_rate):\n",
    "        output_error = self.activation_prime(self.local_field()) * output_error\n",
    "        input_error = self.weights.T @ output_error\n",
    "        \n",
    "        self.weights += learning_rate * output_error @ self.input.T\n",
    "        self.thresholds -= learning_rate * output_error\n",
    "\n",
    "        return input_error"
   ]
  },
  {
   "cell_type": "markdown",
   "metadata": {},
   "source": [
    "### Perceptron to train"
   ]
  },
  {
   "cell_type": "code",
   "execution_count": 5,
   "metadata": {},
   "outputs": [],
   "source": [
    "class Perceptron():\n",
    "    def __init__(self):\n",
    "        self.layers = []\n",
    "        \n",
    "    def add(self, layer):\n",
    "        self.layers.append(layer)\n",
    "        \n",
    "    def predict(self, input_patterns):\n",
    "        predictions = np.empty(0)\n",
    "        \n",
    "        for input_pattern in input_patterns:\n",
    "            output = input_pattern.reshape(input_patterns.shape[1],1)\n",
    "            for layer in self.layers:\n",
    "                output = layer.forward_propagation(output)\n",
    "            predictions = np.append(predictions, np.sign(output.flatten()), axis=0)\n",
    "            \n",
    "        return predictions.reshape(predictions.shape[0],1)\n",
    "        \n",
    "        \n",
    "    def fit(self, input_patterns, targets, nb_epochs, learning_rate):\n",
    "        loss_variation = np.empty(0)\n",
    "        p = input_patterns.shape[0]\n",
    "        for i in tqdm(range(nb_epochs)):\n",
    "            output = input_patterns[i%p].reshape(input_patterns.shape[1],1)\n",
    "            target = targets[i%p].reshape(1,1)\n",
    "\n",
    "            for layer in self.layers:\n",
    "                output = layer.forward_propagation(output)\n",
    "\n",
    "            output_error = loss_function_prime(target, output)\n",
    "            for layer in reversed(self.layers):\n",
    "                output_error = layer.backward_propagation(output_error, learning_rate)\n",
    "\n",
    "            if i%p == 0:\n",
    "                loss_variation = np.append(loss_variation, [loss_function(targets, self.predict(input_patterns)).sum()], axis=0)\n",
    "\n",
    "        return loss_variation"
   ]
  },
  {
   "cell_type": "markdown",
   "metadata": {},
   "source": [
    "## Training"
   ]
  },
  {
   "cell_type": "code",
   "execution_count": 6,
   "metadata": {},
   "outputs": [],
   "source": [
    "M1 = 10"
   ]
  },
  {
   "cell_type": "code",
   "execution_count": 7,
   "metadata": {},
   "outputs": [],
   "source": [
    "M2 = 10"
   ]
  },
  {
   "cell_type": "code",
   "execution_count": 8,
   "metadata": {},
   "outputs": [],
   "source": [
    "tanh = lambda x: np.tanh(x)"
   ]
  },
  {
   "cell_type": "code",
   "execution_count": 9,
   "metadata": {},
   "outputs": [],
   "source": [
    "tanh_prime = lambda x: 1 - np.tanh(x)**2"
   ]
  },
  {
   "cell_type": "code",
   "execution_count": 10,
   "metadata": {},
   "outputs": [],
   "source": [
    "x_train = np.genfromtxt(\"../data/training_set.csv\", delimiter=\",\")\n",
    "y_train = x_train[:, 2].reshape(x_train.shape[0],1)\n",
    "x_train = np.delete(x_train, 2, 1)"
   ]
  },
  {
   "cell_type": "code",
   "execution_count": 11,
   "metadata": {},
   "outputs": [],
   "source": [
    "perceptron = Perceptron()"
   ]
  },
  {
   "cell_type": "code",
   "execution_count": 12,
   "metadata": {},
   "outputs": [],
   "source": [
    "perceptron.add(FCLayer(2, M1, tanh, tanh_prime))\n",
    "perceptron.add(FCLayer(M1, M2, tanh, tanh_prime))\n",
    "perceptron.add(FCLayer(M2, 1, tanh, tanh_prime))"
   ]
  },
  {
   "cell_type": "code",
   "execution_count": 13,
   "metadata": {},
   "outputs": [
    {
     "name": "stderr",
     "output_type": "stream",
     "text": [
      "100%|██████████| 1000000/1000000 [01:01<00:00, 16236.34it/s]\n"
     ]
    }
   ],
   "source": [
    "loss_variation = perceptron.fit(x_train, y_train, 1000000, 0.02)"
   ]
  },
  {
   "cell_type": "code",
   "execution_count": 14,
   "metadata": {},
   "outputs": [
    {
     "data": {
      "text/plain": [
       "[<matplotlib.lines.Line2D at 0x7f7fcddbfcd0>]"
      ]
     },
     "execution_count": 14,
     "metadata": {},
     "output_type": "execute_result"
    },
    {
     "data": {
      "image/png": "[encoded data removed]",
      "text/plain": [
       "<Figure size 432x288 with 1 Axes>"
      ]
     },
     "metadata": {
      "needs_background": "light"
     },
     "output_type": "display_data"
    }
   ],
   "source": [
    "plt.plot(loss_variation)"
   ]
  },
  {
   "cell_type": "markdown",
   "metadata": {},
   "source": [
    "## Validation"
   ]
  },
  {
   "cell_type": "code",
   "execution_count": 15,
   "metadata": {},
   "outputs": [],
   "source": [
    "x_val = np.genfromtxt(\"../data/validation_set.csv\", delimiter=\",\")"
   ]
  },
  {
   "cell_type": "code",
   "execution_count": 16,
   "metadata": {},
   "outputs": [],
   "source": [
    "y_val = x_val[:,2].reshape(x_val.shape[0], 1)"
   ]
  },
  {
   "cell_type": "code",
   "execution_count": 17,
   "metadata": {},
   "outputs": [],
   "source": [
    "x_val = np.delete(x_val, 2, 1)"
   ]
  },
  {
   "cell_type": "code",
   "execution_count": 18,
   "metadata": {},
   "outputs": [],
   "source": [
    "y = perceptron.predict(x_val)"
   ]
  },
  {
   "cell_type": "markdown",
   "metadata": {},
   "source": [
    "### Classification error"
   ]
  },
  {
   "cell_type": "code",
   "execution_count": 19,
   "metadata": {},
   "outputs": [
    {
     "data": {
      "text/plain": [
       "11.799999999999999"
      ]
     },
     "execution_count": 19,
     "metadata": {},
     "output_type": "execute_result"
    }
   ],
   "source": [
    "1/2 * np.mean(np.absolute(y - y_val)) * 100"
   ]
  },
  {
   "cell_type": "markdown",
   "metadata": {},
   "source": [
    "## Write CSV"
   ]
  },
  {
   "cell_type": "code",
   "execution_count": 20,
   "metadata": {},
   "outputs": [],
   "source": [
    "for file_num in range(3):\n",
    "    file = open(f\"../w{file_num+1}.csv\", \"w\")\n",
    "    writer = csv.writer(file)\n",
    "    \n",
    "    for row in perceptron.layers[file_num].weights:\n",
    "        writer.writerow(row)\n",
    "    \n",
    "    file.close()\n",
    "    \n",
    "    file = open(f\"../t{file_num+1}.csv\", \"w\")\n",
    "    writer = csv.writer(file)\n",
    "    \n",
    "    for row in perceptron.layers[file_num].thresholds:\n",
    "        writer.writerow(row)\n",
    "    \n",
    "    file.close()"
   ]
  }
 ],
 "metadata": {
  "kernelspec": {
   "display_name": "Python 3",
   "language": "python",
   "name": "python3"
  },
  "language_info": {
   "codemirror_mode": {
    "name": "ipython",
    "version": 3
   },
   "file_extension": ".py",
   "mimetype": "text/x-python",
   "name": "python",
   "nbconvert_exporter": "python",
   "pygments_lexer": "ipython3",
   "version": "3.7.4"
  }
 },
 "nbformat": 4,
 "nbformat_minor": 2
}
