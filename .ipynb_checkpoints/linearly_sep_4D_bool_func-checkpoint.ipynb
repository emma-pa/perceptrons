{
 "cells": [
  {
   "cell_type": "code",
   "execution_count": 14,
   "metadata": {},
   "outputs": [],
   "source": [
    "import numpy as np\n",
    "import matplotlib.pyplot as plt"
   ]
  },
  {
   "cell_type": "code",
   "execution_count": 23,
   "metadata": {},
   "outputs": [],
   "source": [
    "class Perceptron:\n",
    "    def __init__(self, input_patterns, targets, D, learning_rate):\n",
    "        self.input_patterns = input_patterns\n",
    "        self.targets = targets\n",
    "        self.weights = 0.4*np.random.rand(D) - 0.2\n",
    "        self.threshold = 2*np.random.rand() - 1\n",
    "        self.learning_rate = learning_rate\n",
    "        self.p = self.input_patterns.shape[0]\n",
    "        self.loss_variation = np.empty(0)\n",
    "        \n",
    "    def _stochastic_gradient_descent(self, input_pattern , target):\n",
    "        output = self._activation_function(local_field(input_target))\n",
    "        # print('b',local_field)\n",
    "        \n",
    "        # Gradients calculation\n",
    "        gradient_weights = -self._loss_function_derivative(input_pattern, target)\n",
    "        gradient_thresholds = -self._loss_function_derivative(1, target)\n",
    "        \n",
    "        print((gradient_weights,gradient_thresholds))\n",
    "        self.loss_variation = np.append(self.loss_variation, [self._loss_function(target)], axis = 0)\n",
    "        \n",
    "        # Update weights and thresholds\n",
    "        # print('grad b', gradient_weights)\n",
    "        # print('w', self.weights)\n",
    "        self.weights = self.weights + self.learning_rate * gradient_weights\n",
    "        self.threshold = self.threshold + self.learning_rate * gradient_thresholds\n",
    "    \n",
    "    def _local_field(self, input_pattern):\n",
    "        return -self.threshold + np.dot(self.weights, input_pattern)\n",
    "        \n",
    "    def _activation_function(self, local_field):\n",
    "        return np.tanh(1/2 * self._local_field)\n",
    "    \n",
    "    def _loss_function(self, target, local_field):\n",
    "        return 1/2 * (target - self._activation_function(local_field))**2\n",
    "    \n",
    "    def _loss_function_derivative(self, local_field, input_pattern, target):\n",
    "        return -1/2 * input_pattern * (1 - np.tanh(1/2 * local_field)**2) * (target - self.output)\n",
    "    \n",
    "    def fit(self, max_update):\n",
    "        stop_learning = np.zeros(self.p, dtype=bool)\n",
    "        idx = 0\n",
    "        i = 0\n",
    "        while i < max_update and not stop_learning.all() :\n",
    "            if idx == self.p:\n",
    "                idx = 0\n",
    "                \n",
    "            i += 1\n",
    "            input_pattern = self.input_patterns[idx]\n",
    "            target = self.targets[idx]\n",
    "            \n",
    "            self._stochastic_gradient_descent(input_pattern, target)   \n",
    "            \n",
    "            if np.sign(self.output) == target:\n",
    "                stop_learning[idx] = True\n",
    "            idx += 1\n",
    "        return stop_learning"
   ]
  },
  {
   "cell_type": "code",
   "execution_count": 24,
   "metadata": {},
   "outputs": [],
   "source": [
    "targets = np.array([1, 1, 1, -1, 1, 1, -1, 1, 1, 1, -1, 1, -1, -1, -1, 1])"
   ]
  },
  {
   "cell_type": "code",
   "execution_count": 25,
   "metadata": {},
   "outputs": [],
   "source": [
    "input_patterns = np.genfromtxt('input_data_numeric.csv', delimiter=',')\n",
    "input_patterns = np.delete(input_patterns, 0, 1)"
   ]
  },
  {
   "cell_type": "code",
   "execution_count": 26,
   "metadata": {},
   "outputs": [],
   "source": [
    "LR = 0.02"
   ]
  },
  {
   "cell_type": "code",
   "execution_count": 27,
   "metadata": {},
   "outputs": [],
   "source": [
    "D = 4"
   ]
  },
  {
   "cell_type": "code",
   "execution_count": 28,
   "metadata": {},
   "outputs": [],
   "source": [
    "p = Perceptron(input_patterns, targets, D, LR)"
   ]
  },
  {
   "cell_type": "code",
   "execution_count": 29,
   "metadata": {},
   "outputs": [
    {
     "name": "stdout",
     "output_type": "stream",
     "text": [
      "(array([0.37657361, 0.37657361, 0.37657361, 0.37657361]), -0.3765736070146544)\n",
      "(array([-0.41104917,  0.41104917,  0.41104917,  0.41104917]), -0.4110491688625826)\n",
      "(array([ 0.44984768, -0.44984768,  0.44984768,  0.44984768]), -0.4498476807659093)\n",
      "(array([-0.5910144, -0.5910144,  0.5910144, -0.5910144]), 0.5910144014240789)\n",
      "(array([ 0.4198807,  0.4198807,  0.4198807, -0.4198807]), -0.4198807001107879)\n",
      "(array([-0.47870501, -0.47870501,  0.47870501,  0.47870501]), -0.47870501440468816)\n",
      "(array([ 0.57739615, -0.57739615,  0.57739615, -0.57739615]), 0.5773961549460725)\n",
      "(array([-0.4507796,  0.4507796,  0.4507796, -0.4507796]), -0.45077960174052517)\n",
      "(array([ 0.43314778, -0.43314778, -0.43314778,  0.43314778]), -0.4331477816953991)\n",
      "(array([ 0.47113265, -0.47113265,  0.47113265, -0.47113265]), -0.47113264580808006)\n",
      "(array([-0.57050439, -0.57050439,  0.57050439,  0.57050439]), 0.5705043903069297)\n",
      "(array([-0.46283751, -0.46283751, -0.46283751,  0.46283751]), -0.4628375060414253)\n",
      "(array([ 0.50259154,  0.50259154, -0.50259154,  0.50259154]), 0.5025915359646698)\n",
      "(array([ 0.53623246, -0.53623246,  0.53623246,  0.53623246]), 0.5362324570413092)\n",
      "(array([-0.52237846,  0.52237846,  0.52237846,  0.52237846]), 0.5223784560941908)\n",
      "(array([-0.52468568, -0.52468568, -0.52468568, -0.52468568]), -0.5246856783795839)\n",
      "(array([0.35093644, 0.35093644, 0.35093644, 0.35093644]), -0.35093643683850123)\n",
      "(array([-0.38311798,  0.38311798,  0.38311798,  0.38311798]), -0.3831179822803865)\n",
      "(array([ 0.39693773, -0.39693773,  0.39693773,  0.39693773]), -0.39693773474684835)\n",
      "(array([-0.58706505, -0.58706505,  0.58706505, -0.58706505]), 0.5870650451917794)\n",
      "(array([ 0.41633253,  0.41633253,  0.41633253, -0.41633253]), -0.41633253416252197)\n",
      "(array([-0.4262514, -0.4262514,  0.4262514,  0.4262514]), -0.42625140026536823)\n",
      "(array([ 0.56924977, -0.56924977,  0.56924977, -0.56924977]), 0.56924976557115)\n",
      "(array([-0.44432075,  0.44432075,  0.44432075, -0.44432075]), -0.4443207495188227)\n",
      "(array([ 0.42748198, -0.42748198, -0.42748198,  0.42748198]), -0.42748197715833275)\n",
      "(array([ 0.44102656, -0.44102656,  0.44102656, -0.44102656]), -0.44102655938991947)\n",
      "(array([-0.54853846, -0.54853846,  0.54853846,  0.54853846]), 0.5485384574716651)\n",
      "(array([-0.45472482, -0.45472482, -0.45472482,  0.45472482]), -0.4547248223092178)\n",
      "(array([ 0.52896762,  0.52896762, -0.52896762,  0.52896762]), 0.5289676228134188)\n",
      "(array([ 0.50783337, -0.50783337,  0.50783337,  0.50783337]), 0.5078333676027054)\n",
      "(array([-0.51206267,  0.51206267,  0.51206267,  0.51206267]), 0.5120626685128825)\n",
      "(array([-0.5320309, -0.5320309, -0.5320309, -0.5320309]), -0.5320308969676972)\n",
      "(array([0.32825816, 0.32825816, 0.32825816, 0.32825816]), -0.3282581648070794)\n",
      "(array([-0.35766835,  0.35766835,  0.35766835,  0.35766835]), -0.35766834736959413)\n",
      "(array([ 0.34701242, -0.34701242,  0.34701242,  0.34701242]), -0.34701241824175005)\n",
      "(array([-0.58098136, -0.58098136,  0.58098136, -0.58098136]), 0.5809813598021589)\n",
      "(array([ 0.41349386,  0.41349386,  0.41349386, -0.41349386]), -0.4134938568223848)\n",
      "(array([-0.37480331, -0.37480331,  0.37480331,  0.37480331]), -0.3748033078108288)\n",
      "(array([ 0.55990433, -0.55990433,  0.55990433, -0.55990433]), 0.5599043334224706)\n",
      "(array([-0.43848325,  0.43848325,  0.43848325, -0.43848325]), -0.4384832526393041)\n",
      "(array([ 0.42282352, -0.42282352, -0.42282352,  0.42282352]), -0.42282352050446065)\n",
      "(array([ 0.41207938, -0.41207938,  0.41207938, -0.41207938]), -0.41207938456991017)\n",
      "(array([-0.52200462, -0.52200462,  0.52200462,  0.52200462]), 0.5220046175732533)\n",
      "(array([-0.44749826, -0.44749826, -0.44749826,  0.44749826]), -0.4474982605713866)\n",
      "(array([ 0.54978702,  0.54978702, -0.54978702,  0.54978702]), 0.5497870186772669)\n",
      "(array([ 0.47771608, -0.47771608,  0.47771608,  0.47771608]), 0.47771607580601444)\n",
      "(array([-0.50196804,  0.50196804,  0.50196804,  0.50196804]), 0.5019680367570103)\n",
      "(array([-0.5383789, -0.5383789, -0.5383789, -0.5383789]), -0.5383788955173531)\n",
      "(array([0.3083812, 0.3083812, 0.3083812, 0.3083812]), -0.30838120462407587)\n",
      "(array([-0.33477574,  0.33477574,  0.33477574,  0.33477574]), -0.33477573606387034)\n",
      "(array([ 0.30215517, -0.30215517,  0.30215517,  0.30215517]), -0.30215516616575205)\n",
      "(array([-0.57311767, -0.57311767,  0.57311767, -0.57311767]), 0.5731176680117654)\n",
      "(array([ 0.41111345,  0.41111345,  0.41111345, -0.41111345]), -0.4111134522421495)\n",
      "(array([-0.32722828, -0.32722828,  0.32722828,  0.32722828]), -0.3272282825420711)\n",
      "(array([ 0.54971679, -0.54971679,  0.54971679, -0.54971679]), 0.5497167912174005)\n",
      "(array([-0.43308015,  0.43308015,  0.43308015, -0.43308015]), -0.4330801531422259)\n",
      "(array([ 0.41902235, -0.41902235, -0.41902235,  0.41902235]), -0.41902234613048245)\n",
      "(array([ 0.38483469, -0.38483469,  0.38483469, -0.38483469]), -0.3848346885483511)\n",
      "(array([-0.49295807, -0.49295807,  0.49295807,  0.49295807]), 0.4929580693380333)\n",
      "(array([-0.44105743, -0.44105743, -0.44105743,  0.44105743]), -0.44105742720859137)\n",
      "(array([ 0.56563167,  0.56563167, -0.56563167,  0.56563167]), 0.5656316740612428)\n",
      "(array([ 0.44750994, -0.44750994,  0.44750994,  0.44750994]), 0.447509944811519)\n",
      "(array([-0.49227622,  0.49227622,  0.49227622,  0.49227622]), 0.4922762210030713)\n",
      "(array([-0.54379872, -0.54379872, -0.54379872, -0.54379872]), -0.5437987150803993)\n",
      "(array([0.29100989, 0.29100989, 0.29100989, 0.29100989]), -0.2910098865969609)\n",
      "(array([-0.31430635,  0.31430635,  0.31430635,  0.31430635]), -0.3143063468177784)\n",
      "(array([ 0.26304504, -0.26304504,  0.26304504,  0.26304504]), -0.2630450426383791)\n",
      "(array([-0.56386459, -0.56386459,  0.56386459, -0.56386459]), 0.5638645929335936)\n",
      "(array([ 0.40900689,  0.40900689,  0.40900689, -0.40900689]), -0.40900689359472575)\n",
      "(array([-0.28483805, -0.28483805,  0.28483805,  0.28483805]), -0.28483805023358605)\n",
      "(array([ 0.53902285, -0.53902285,  0.53902285, -0.53902285]), 0.5390228489837389)\n",
      "(array([-0.4279667,  0.4279667,  0.4279667, -0.4279667]), -0.4279667023179815)\n",
      "(array([ 0.41591163, -0.41591163, -0.41591163,  0.41591163]), -0.41591163194474107)\n",
      "(array([ 0.35952743, -0.35952743,  0.35952743, -0.35952743]), -0.35952743408221954)\n",
      "(array([-0.46308643, -0.46308643,  0.46308643,  0.46308643]), 0.46308642615474327)\n",
      "(array([-0.43527117, -0.43527117, -0.43527117,  0.43527117]), -0.4352711679550292)\n",
      "(array([ 0.57717282,  0.57717282, -0.57717282,  0.57717282]), 0.5771728248861376)\n",
      "(array([ 0.41835149, -0.41835149,  0.41835149,  0.41835149]), 0.41835148549537104)\n",
      "(array([-0.48311374,  0.48311374,  0.48311374,  0.48311374]), 0.4831137378843213)\n",
      "(array([-0.54837975, -0.54837975, -0.54837975, -0.54837975]), -0.5483797526079562)\n",
      "(array([0.27580772, 0.27580772, 0.27580772, 0.27580772]), -0.2758077184059371)\n",
      "(array([-0.2960262,  0.2960262,  0.2960262,  0.2960262]), -0.29602620404443664)\n",
      "(array([ 0.2295278, -0.2295278,  0.2295278,  0.2295278]), -0.2295277984682608)\n",
      "(array([-0.55360128, -0.55360128,  0.55360128, -0.55360128]), 0.5536012827805693)\n",
      "(array([ 0.40704815,  0.40704815,  0.40704815, -0.40704815]), -0.40704815209402456)\n",
      "(array([-0.24791213, -0.24791213,  0.24791213,  0.24791213]), -0.2479121313026925)\n",
      "(array([ 0.52811254, -0.52811254,  0.52811254, -0.52811254]), 0.5281125367780329)\n",
      "(array([-0.42303759,  0.42303759,  0.42303759, -0.42303759]), -0.4230375921650147)\n",
      "(array([ 0.41333403, -0.41333403, -0.41333403,  0.41333403]), -0.4133340256736572)\n",
      "(array([ 0.33619906, -0.33619906,  0.33619906, -0.33619906]), -0.3361990648576345)\n",
      "(array([-0.43362631, -0.43362631,  0.43362631,  0.43362631]), 0.43362631222773723)\n",
      "(array([-0.43000516, -0.43000516, -0.43000516,  0.43000516]), -0.4300051620182217)\n",
      "(array([ 0.58506924,  0.58506924, -0.58506924,  0.58506924]), 0.5850692444169544)\n",
      "(array([ 0.39093617, -0.39093617,  0.39093617,  0.39093617]), 0.3909361710103017)\n",
      "(array([-0.47455797,  0.47455797,  0.47455797,  0.47455797]), 0.4745579664323919)\n",
      "(array([-0.5522181, -0.5522181, -0.5522181, -0.5522181]), -0.5522180951615469)\n",
      "(array([0.26245111, 0.26245111, 0.26245111, 0.26245111]), -0.2624511087119396)\n",
      "(array([-0.27967096,  0.27967096,  0.27967096,  0.27967096]), -0.2796709555365675)\n",
      "(array([ 0.20105037, -0.20105037,  0.20105037,  0.20105037]), -0.2010503713075286)\n",
      "(array([-0.54266573, -0.54266573,  0.54266573, -0.54266573]), 0.542665733545646)\n"
     ]
    },
    {
     "data": {
      "text/plain": [
       "array([ True,  True,  True, False,  True,  True, False,  True,  True,\n",
       "        True,  True,  True, False,  True,  True, False])"
      ]
     },
     "execution_count": 29,
     "metadata": {},
     "output_type": "execute_result"
    }
   ],
   "source": [
    "p.fit(100)"
   ]
  },
  {
   "cell_type": "code",
   "execution_count": 22,
   "metadata": {},
   "outputs": [
    {
     "data": {
      "text/plain": [
       "[<matplotlib.lines.Line2D at 0x7fd7980e8510>]"
      ]
     },
     "execution_count": 22,
     "metadata": {},
     "output_type": "execute_result"
    },
    {
     "data": {
      "image/png": "[encoded data removed]",
      "text/plain": [
       "<Figure size 432x288 with 1 Axes>"
      ]
     },
     "metadata": {
      "needs_background": "light"
     },
     "output_type": "display_data"
    }
   ],
   "source": [
    "plt.plot(p.loss_variation, 'o-')"
   ]
  },
  {
   "cell_type": "code",
   "execution_count": 11,
   "metadata": {},
   "outputs": [
    {
     "data": {
      "text/plain": [
       "(100000,)"
      ]
     },
     "execution_count": 11,
     "metadata": {},
     "output_type": "execute_result"
    }
   ],
   "source": [
    "p.loss_variation.shape"
   ]
  },
  {
   "cell_type": "code",
   "execution_count": null,
   "metadata": {},
   "outputs": [],
   "source": []
  }
 ],
 "metadata": {
  "kernelspec": {
   "display_name": "Python 3",
   "language": "python",
   "name": "python3"
  },
  "language_info": {
   "codemirror_mode": {
    "name": "ipython",
    "version": 3
   },
   "file_extension": ".py",
   "mimetype": "text/x-python",
   "name": "python",
   "nbconvert_exporter": "python",
   "pygments_lexer": "ipython3",
   "version": "3.7.4"
  }
 },
 "nbformat": 4,
 "nbformat_minor": 2
}
